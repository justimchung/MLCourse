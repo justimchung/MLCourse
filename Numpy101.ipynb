{
 "cells": [
  {
   "cell_type": "markdown",
   "metadata": {},
   "source": [
    "# Numpy 簡介\n",
    "NumPy is the fundamental package for scientific computing with Python.\n",
    "\n",
    "It contains among other things:\n",
    "\n",
    "- a powerful N-dimensional array object\n",
    "- sophisticated (broadcasting) functions\n",
    "- tools for integrating C/C++ and Fortran code\n",
    "- useful linear algebra, Fourier transform, and random number capabilities\n",
    "\n",
    "Besides its obvious scientific uses, NumPy can also be used as an efficient multi-dimensional container of generic data. Arbitrary data-types can be defined. This allows NumPy to seamlessly and speedily integrate with a wide variety of databases.\n",
    "\n",
    "The official website of Numpy is [here](https://numpy.org/).\n"
   ]
  },
  {
   "cell_type": "code",
   "execution_count": 2,
   "metadata": {},
   "outputs": [],
   "source": [
    "import numpy as np"
   ]
  },
  {
   "cell_type": "markdown",
   "metadata": {},
   "source": [
    "### 產生 numpy 的串列\n",
    "Array creation"
   ]
  },
  {
   "cell_type": "code",
   "execution_count": 3,
   "metadata": {},
   "outputs": [
    {
     "name": "stdout",
     "output_type": "stream",
     "text": [
      "<class 'numpy.ndarray'>\n",
      "[1 2 4 8 7]\n"
     ]
    }
   ],
   "source": [
    "#lst is a one dimensional array\n",
    "lst = np.array([1,2,4,8,7])\n",
    "print(type(lst))\n",
    "print(lst)"
   ]
  },
  {
   "cell_type": "markdown",
   "metadata": {},
   "source": [
    "## 使用規則產生串列\n",
    "\n",
    "``numpy.arange([start, ]stop, [step, ]dtype=None)`` [document](https://docs.scipy.org/doc/numpy/reference/generated/numpy.arange.html)\n",
    "\n",
    "Return evenly spaced values within a given interval.\n",
    "\n",
    "Values are generated within the half-open interval ``[start, stop)`` (in other words, the interval including start but excluding stop). For integer arguments the function is equivalent to the Python built-in range function, but returns an ndarray rather than a list.\n",
    "\n",
    "**arange**(起始, 終結, 步進值)\n",
    "\n",
    "**arange**(1, 20) # 產生 1,2,...,19 的串列\n",
    "\n",
    "**arange**(1, 20, 2) # 產生 1,3,5,...,19 的串列"
   ]
  },
  {
   "cell_type": "code",
   "execution_count": 6,
   "metadata": {},
   "outputs": [
    {
     "name": "stdout",
     "output_type": "stream",
     "text": [
      "[ 1  3  5  7  9 11 13 15 17 19]\n"
     ]
    }
   ],
   "source": [
    "lst2 = np.arange(1,20,2)\n",
    "print(lst2)"
   ]
  },
  {
   "cell_type": "markdown",
   "metadata": {},
   "source": [
    "### 產生一序列的資料\n",
    "``numpy.linspace(start, stop, num=50, endpoint=True, retstep=False, dtype=None, axis=0)``[document](https://docs.scipy.org/doc/numpy/reference/generated/numpy.linspace.html#numpy.linspace)\n",
    "\n",
    "Return evenly spaced numbers over a specified interval.\n",
    "\n",
    "Returns num evenly spaced samples, calculated over the interval ``[start, stop]``.\n",
    "\n",
    "The endpoint of the interval can optionally be excluded.\n",
    "\n",
    "Generate 50 points that are evently spreaded in the range [1.0, 3.0]\n",
    "\n",
    "在 [1.0, 3.0] 區間中，均勻地產生 50 個資料點\n",
    "\n",
    "**linspace**(1.0, 3.0, num=50)  \n",
    "\n",
    "註：linspace 和 arange 很像，不一樣處在於，linespace 允許產生小數點的數，但 arange 所產生的數都是整數。更清楚地說，arange 中的步進值都是整數，不可以是小數，但 linespace 可以是小數。"
   ]
  },
  {
   "cell_type": "code",
   "execution_count": 19,
   "metadata": {},
   "outputs": [
    {
     "name": "stdout",
     "output_type": "stream",
     "text": [
      "[1.         1.18181818 1.36363636 1.54545455 1.72727273 1.90909091\n",
      " 2.09090909 2.27272727 2.45454545 2.63636364 2.81818182 3.        ]\n",
      "[1.         1.16666667 1.33333333 1.5        1.66666667 1.83333333\n",
      " 2.         2.16666667 2.33333333 2.5        2.66666667 2.83333333]\n"
     ]
    }
   ],
   "source": [
    "#include endpoint (包含上限值)\n",
    "lst1 = np.linspace(1.0, 3.0, num=12)\n",
    "print(lst1)\n",
    "#exclude endpoint (不包含上限值)\n",
    "lst2 = np.linspace(1.0, 3.0, num=12, endpoint=False)\n",
    "print(lst2)"
   ]
  },
  {
   "cell_type": "markdown",
   "metadata": {},
   "source": [
    "### N-dimensional array creation\n",
    "\n",
    "建立 2 維的陣列\n",
    "\n",
    "np.array([\n",
    "[1,2],\n",
    "[3,4]\n",
    "])"
   ]
  },
  {
   "cell_type": "code",
   "execution_count": 20,
   "metadata": {},
   "outputs": [
    {
     "name": "stdout",
     "output_type": "stream",
     "text": [
      "[[1 2]\n",
      " [3 4]]\n",
      "2\n"
     ]
    }
   ],
   "source": [
    "arr2 = np.array([\n",
    "    [1,2],\n",
    "    [3,4]\n",
    "])\n",
    "print(arr2)\n",
    "#ndim returns the number of dimensions of the array (ndim 會回傳這個陣列有幾個維度)\n",
    "print(arr2.ndim)"
   ]
  },
  {
   "cell_type": "code",
   "execution_count": 10,
   "metadata": {},
   "outputs": [
    {
     "data": {
      "text/plain": [
       "(2, 2)"
      ]
     },
     "execution_count": 10,
     "metadata": {},
     "output_type": "execute_result"
    }
   ],
   "source": [
    "#shape returns a tuple of array dimensions\n",
    "#arr2 is a 2*2 array\n",
    "arr2.shape"
   ]
  },
  {
   "cell_type": "code",
   "execution_count": 26,
   "metadata": {},
   "outputs": [
    {
     "name": "stdout",
     "output_type": "stream",
     "text": [
      "(3, 4)\n"
     ]
    }
   ],
   "source": [
    "#lst1 is an one-dimensional array that contains 12 elements (lst1 是一個一維的陣列，其包含 12 個元素)\n",
    "print(lst1.shape)"
   ]
  },
  {
   "cell_type": "markdown",
   "metadata": {},
   "source": [
    "### Number of elements in an array\n",
    "\n",
    "取得陣列中元素個數"
   ]
  },
  {
   "cell_type": "code",
   "execution_count": 27,
   "metadata": {},
   "outputs": [
    {
     "name": "stdout",
     "output_type": "stream",
     "text": [
      "The number of elements in lst is 4\n"
     ]
    }
   ],
   "source": [
    "lst = np.array([1,4,7,6])\n",
    "print(f\"The number of elements in lst is {lst.size}\")"
   ]
  },
  {
   "cell_type": "code",
   "execution_count": 29,
   "metadata": {},
   "outputs": [
    {
     "name": "stdout",
     "output_type": "stream",
     "text": [
      "The shape of arr4 is (2, 5)\n",
      "The number of elements of arr4 is 10\n"
     ]
    }
   ],
   "source": [
    "arr3 = np.arange(1,11)\n",
    "arr4 = arr3.reshape(2,5)\n",
    "print(f\"The shape of arr4 is {arr4.shape}\")\n",
    "print(f\"The number of elements of arr4 is {arr3.size}\")"
   ]
  },
  {
   "cell_type": "markdown",
   "metadata": {},
   "source": [
    "### Use reshape to change the dimension of an array\n",
    "\n",
    "Gives a new shape to an array without changing its data.\n",
    "\n",
    "使用 reshape 這個指令來改變 array 的維度"
   ]
  },
  {
   "cell_type": "code",
   "execution_count": 22,
   "metadata": {},
   "outputs": [
    {
     "name": "stdout",
     "output_type": "stream",
     "text": [
      "[1.         1.18181818 1.36363636 1.54545455 1.72727273 1.90909091\n",
      " 2.09090909 2.27272727 2.45454545 2.63636364 2.81818182 3.        ]\n",
      "(12,)\n",
      "lst1 的維度為 1\n",
      "[[1.         1.18181818 1.36363636 1.54545455]\n",
      " [1.72727273 1.90909091 2.09090909 2.27272727]\n",
      " [2.45454545 2.63636364 2.81818182 3.        ]]\n",
      "(3, 4)\n",
      "lst1 的維度為 2\n"
     ]
    }
   ],
   "source": [
    "#lst1 is a one dimensional array with 12 elements \n",
    "#lst1 是一個一維的陣列，包含了 12 個元素\n",
    "print(lst1)\n",
    "print(lst1.shape)\n",
    "print(f\"lst1 的維度為 {lst1.ndim}\")\n",
    "#將 lst1 改成為一個 3*4 的二維陣列 (有三個 rows，以及 4 個 columns)\n",
    "lst1 = lst1.reshape(3,4)\n",
    "print(lst1)\n",
    "print(lst1.shape)\n",
    "print(f\"lst1 的維度為 {lst1.ndim}\")"
   ]
  },
  {
   "cell_type": "markdown",
   "metadata": {},
   "source": [
    "### 將運算指定到所有的元素\n",
    "\n",
    "Numpy 會把所有的運算都指定到串中所有的元素上。\n",
    "\n",
    "所以不用撰寫迴圈！\n"
   ]
  },
  {
   "cell_type": "code",
   "execution_count": 8,
   "metadata": {},
   "outputs": [
    {
     "name": "stdout",
     "output_type": "stream",
     "text": [
      "[1 2 3 4 5 6 7 8 9]\n",
      "[ 2  3  4  5  6  7  8  9 10]\n"
     ]
    }
   ],
   "source": [
    "# 所有元素加1 \n",
    "lst = np.arange(1,10)\n",
    "print(lst)\n",
    "lst = lst + 1\n",
    "print(lst)"
   ]
  },
  {
   "cell_type": "code",
   "execution_count": 9,
   "metadata": {},
   "outputs": [
    {
     "name": "stdout",
     "output_type": "stream",
     "text": [
      "[1 2 3 4 5 6 7 8 9]\n",
      "[2.71828183e+00 7.38905610e+00 2.00855369e+01 5.45981500e+01\n",
      " 1.48413159e+02 4.03428793e+02 1.09663316e+03 2.98095799e+03\n",
      " 8.10308393e+03]\n"
     ]
    }
   ],
   "source": [
    "# 所有元素都取指數次方\n",
    "lst = np.arange(1, 10)\n",
    "print(lst)\n",
    "lst = np.exp(lst)\n",
    "print(lst)"
   ]
  },
  {
   "cell_type": "code",
   "execution_count": 25,
   "metadata": {},
   "outputs": [
    {
     "name": "stdout",
     "output_type": "stream",
     "text": [
      "[1.         1.21052632 1.42105263 1.63157895 1.84210526 2.05263158\n",
      " 2.26315789 2.47368421 2.68421053 2.89473684 3.10526316 3.31578947\n",
      " 3.52631579 3.73684211 3.94736842 4.15789474 4.36842105 4.57894737\n",
      " 4.78947368 5.        ]\n",
      "[1. 1. 1. 1. 1. 2. 2. 2. 2. 2. 3. 3. 3. 3. 3. 4. 4. 4. 4. 5.]\n"
     ]
    }
   ],
   "source": [
    "#Apply floor to each element of lst\n",
    "lst = np.linspace(1.0, 5.0, num=20)\n",
    "print(lst)\n",
    "lst2 = np.floor(lst)\n",
    "print(lst2)"
   ]
  },
  {
   "cell_type": "code",
   "execution_count": 10,
   "metadata": {},
   "outputs": [
    {
     "data": {
      "text/plain": [
       "45"
      ]
     },
     "execution_count": 10,
     "metadata": {},
     "output_type": "execute_result"
    }
   ],
   "source": [
    "np.sum(np.arange(1,10)) #計算 1+2+3+...+9"
   ]
  },
  {
   "cell_type": "code",
   "execution_count": 11,
   "metadata": {},
   "outputs": [
    {
     "data": {
      "text/plain": [
       "5.0"
      ]
     },
     "execution_count": 11,
     "metadata": {},
     "output_type": "execute_result"
    }
   ],
   "source": [
    "np.mean(np.arange(1,10)) #計算 (1,2,3,...,9) 的平均\n",
    "#np.median 取中位數\n",
    "#np.var 取變異數\n",
    "#np.std 取標準差"
   ]
  },
  {
   "cell_type": "markdown",
   "metadata": {},
   "source": [
    "## 陣列運算\n",
    "\n",
    "陣列運算分兩種:\n",
    "- element-wise (逐元素運算)\n",
    "- array (maxtrix) operation (陣列運算)\n",
    "\n",
    "### Element-wise (逐元素運算)\n",
    "\n",
    "Element-wise operator is a binary operation that takes two matrices of the same dimensions and produces another matrix of the same dimension as the operands where each element $i, j$ is the product of elements $i, j$ of the original two matrices.\n",
    "\n",
    "逐元素運算指的是兩個陣列的運算，這兩個陣列要有相同的維度。例如都是 $2 \\times 2$ 的陣列。\n",
    "\n",
    "假設目前有兩個陣列 $A$ 及 $B$，它們要做逐元素運算，那 $A$ 的第 $i,j$ 個元素 (令其為 $A[i,j]$) 會和 $B[i,j]$ 做運算，得到結果。\n",
    "\n",
    "下圖展示了 element-wise 的陣列相加，可以看到 $A[0,0] + B[0,0] == C[0,0]$\n",
    "\n",
    "![](elementwise.png)"
   ]
  },
  {
   "cell_type": "code",
   "execution_count": 30,
   "metadata": {},
   "outputs": [
    {
     "name": "stdout",
     "output_type": "stream",
     "text": [
      "[4 5 6 7]\n"
     ]
    }
   ],
   "source": [
    "#逐元素相加\n",
    "lst1 = np.array([1,2,3,4])\n",
    "lst2 = np.array([3,3,3,3])\n",
    "lst3 = lst1 + lst2\n",
    "print(lst3)"
   ]
  },
  {
   "cell_type": "code",
   "execution_count": 31,
   "metadata": {},
   "outputs": [
    {
     "name": "stdout",
     "output_type": "stream",
     "text": [
      "[0.33333333 0.66666667 1.         1.33333333]\n"
     ]
    }
   ],
   "source": [
    "#逐元素相除\n",
    "lst3 = lst1 / lst2\n",
    "print(lst3)"
   ]
  },
  {
   "cell_type": "code",
   "execution_count": 35,
   "metadata": {},
   "outputs": [
    {
     "name": "stdout",
     "output_type": "stream",
     "text": [
      "[ 3  6  9 12]\n"
     ]
    }
   ],
   "source": [
    "#element-wise multiply\n",
    "lst3 = lst1 * lst2\n",
    "print(lst3)"
   ]
  },
  {
   "cell_type": "code",
   "execution_count": 36,
   "metadata": {},
   "outputs": [
    {
     "name": "stdout",
     "output_type": "stream",
     "text": [
      "[[4 5]\n",
      " [6 7]]\n"
     ]
    }
   ],
   "source": [
    "#element-wise addition for 2D array\n",
    "arr1 = np.array([\n",
    "    [1,2],\n",
    "    [3,4]\n",
    "])\n",
    "\n",
    "arr2 = np.array([\n",
    "    [3,3],\n",
    "    [3,3]\n",
    "])\n",
    "\n",
    "arr3 = arr1 + arr2\n",
    "print(arr3)"
   ]
  },
  {
   "cell_type": "markdown",
   "metadata": {},
   "source": [
    "## Matrix operations\n",
    "\n",
    "There three common matrix (array) operations:\n",
    "- Production\n",
    "- Transpose\n",
    "- Inverse\n",
    "\n",
    "常見的陣列的運算有三種\n",
    "\n",
    "- 陣列相乘\n",
    "- 陣列轉秩\n",
    "- 反矩陣\n",
    "\n",
    "![](arrayproduction.png)"
   ]
  },
  {
   "cell_type": "markdown",
   "metadata": {},
   "source": [
    "### Array production"
   ]
  },
  {
   "cell_type": "code",
   "execution_count": 37,
   "metadata": {},
   "outputs": [
    {
     "name": "stdout",
     "output_type": "stream",
     "text": [
      "[[25 10]\n",
      " [31  1]]\n"
     ]
    }
   ],
   "source": [
    "arr1 = np.array([\n",
    "    [3,1,2],\n",
    "    [0,1,5]\n",
    "])\n",
    "\n",
    "arr2 = np.array([\n",
    "    [4,3],\n",
    "    [1,1],\n",
    "    [6,0]\n",
    "])\n",
    "\n",
    "arr3 = np.dot(arr1, arr2)\n",
    "\n",
    "print(arr3)"
   ]
  },
  {
   "cell_type": "markdown",
   "metadata": {},
   "source": [
    "### Array transpose"
   ]
  },
  {
   "cell_type": "code",
   "execution_count": 38,
   "metadata": {},
   "outputs": [
    {
     "name": "stdout",
     "output_type": "stream",
     "text": [
      "[[4 3]\n",
      " [1 1]\n",
      " [6 0]]\n",
      "[[4 1 6]\n",
      " [3 1 0]]\n"
     ]
    }
   ],
   "source": [
    "print(arr2)\n",
    "arr3 = arr2.T\n",
    "print(arr3)"
   ]
  },
  {
   "cell_type": "markdown",
   "metadata": {},
   "source": [
    "### Inverse"
   ]
  },
  {
   "cell_type": "code",
   "execution_count": 39,
   "metadata": {},
   "outputs": [
    {
     "name": "stdout",
     "output_type": "stream",
     "text": [
      "[[ 2.  -1.   1. ]\n",
      " [ 4.  -2.   1. ]\n",
      " [-1.5  1.  -0.5]]\n"
     ]
    }
   ],
   "source": [
    "arr1 = np.array([\n",
    "    [0,1,2],\n",
    "    [1,1,4],\n",
    "    [2,-1,0]\n",
    "])\n",
    "\n",
    "arr2 = np.linalg.inv(arr1)\n",
    "print(arr2)"
   ]
  },
  {
   "cell_type": "markdown",
   "metadata": {},
   "source": [
    "## Access the elements in an array\n",
    "\n",
    "存取 array 中的元素"
   ]
  },
  {
   "cell_type": "code",
   "execution_count": 33,
   "metadata": {},
   "outputs": [
    {
     "name": "stdout",
     "output_type": "stream",
     "text": [
      "1\n",
      "4\n"
     ]
    }
   ],
   "source": [
    "lst = np.array([1,4,7,16,24,35])\n",
    "print(lst[0]) #Note: the index for the first element is 0\n",
    "print(lst[1])"
   ]
  },
  {
   "cell_type": "code",
   "execution_count": 34,
   "metadata": {},
   "outputs": [
    {
     "name": "stdout",
     "output_type": "stream",
     "text": [
      "1\n",
      "4\n",
      "7\n",
      "16\n",
      "24\n",
      "35\n"
     ]
    }
   ],
   "source": [
    "#Iterate each element in lst using the for loop\n",
    "for v in lst:\n",
    "    print(v)"
   ]
  },
  {
   "cell_type": "code",
   "execution_count": 42,
   "metadata": {},
   "outputs": [
    {
     "name": "stdout",
     "output_type": "stream",
     "text": [
      "arr[0][0] = 0\n",
      "arr[0][1] = 1\n",
      "arr[1][1] = 1\n"
     ]
    }
   ],
   "source": [
    "arr1 = np.array([\n",
    "    [0,1,2],\n",
    "    [1,1,4],\n",
    "    [2,-1,0]\n",
    "])\n",
    "\n",
    "print(f\"arr[0][0] = {arr1[0][0]}\")\n",
    "print(f\"arr[0][1] = {arr1[0][1]}\")\n",
    "print(f\"arr[1][1] = {arr1[1][1]}\")"
   ]
  },
  {
   "cell_type": "code",
   "execution_count": 48,
   "metadata": {},
   "outputs": [
    {
     "name": "stdout",
     "output_type": "stream",
     "text": [
      "arr1[0] = [0 1 2]\n",
      "arr1[1] = [1 1 4]\n",
      "arr1[2] = [ 2 -1  0]\n",
      "The first row of arr1 is [0 1 2]\n",
      "The second row of arr1 is [1 1 4]\n",
      "The third row of arr1 is [ 2 -1  0]\n"
     ]
    }
   ],
   "source": [
    "arr1 = np.array([\n",
    "    [0,1,2],\n",
    "    [1,1,4],\n",
    "    [2,-1,0]\n",
    "])\n",
    "\n",
    "print(f\"arr1[0] = {arr1[0]}\")\n",
    "print(f\"arr1[1] = {arr1[1]}\")\n",
    "print(f\"arr1[2] = {arr1[2]}\")\n",
    "print(f\"The first row of arr1 is {arr1[0,:]}\")\n",
    "print(f\"The second row of arr1 is {arr1[1,:]}\")\n",
    "print(f\"The third row of arr1 is {arr1[2,:]}\")"
   ]
  },
  {
   "cell_type": "code",
   "execution_count": 47,
   "metadata": {},
   "outputs": [
    {
     "name": "stdout",
     "output_type": "stream",
     "text": [
      "The first column of arr1 is [0 1 2]\n",
      "The second column of arr1 is [ 1  1 -1]\n",
      "The third column of arr1 is [2 4 0]\n"
     ]
    }
   ],
   "source": [
    "arr1 = np.array([\n",
    "    [0,1,2],\n",
    "    [1,1,4],\n",
    "    [2,-1,0]\n",
    "])\n",
    "\n",
    "print(f\"The first column of arr1 is {arr1[:,0]}\")\n",
    "print(f\"The second column of arr1 is {arr1[:,1]}\")\n",
    "print(f\"The third column of arr1 is {arr1[:,2]}\")"
   ]
  }
 ],
 "metadata": {
  "kernelspec": {
   "display_name": "Python 3",
   "language": "python",
   "name": "python3"
  },
  "language_info": {
   "codemirror_mode": {
    "name": "ipython",
    "version": 3
   },
   "file_extension": ".py",
   "mimetype": "text/x-python",
   "name": "python",
   "nbconvert_exporter": "python",
   "pygments_lexer": "ipython3",
   "version": "3.7.6"
  }
 },
 "nbformat": 4,
 "nbformat_minor": 2
}
